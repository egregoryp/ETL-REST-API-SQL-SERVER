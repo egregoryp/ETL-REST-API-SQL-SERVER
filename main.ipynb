{
 "cells": [
  {
   "cell_type": "code",
   "execution_count": 11,
   "metadata": {},
   "outputs": [],
   "source": [
    "from etl.extract import Extract\n",
    "from etl.transform import Transform\n",
    "from etl.load import Load"
   ]
  },
  {
   "cell_type": "code",
   "execution_count": 12,
   "metadata": {},
   "outputs": [],
   "source": [
    "extract = Extract()\n",
    "transform = Transform()\n",
    "load = Load()"
   ]
  },
  {
   "cell_type": "code",
   "execution_count": 13,
   "metadata": {},
   "outputs": [],
   "source": [
    "# df_survey_flat = extract.read_api_json(\"p272193372940\")\n",
    "df_survey_flat = extract.read_api_json(\"p160991049881\")"
   ]
  },
  {
   "cell_type": "code",
   "execution_count": 14,
   "metadata": {},
   "outputs": [
    {
     "data": {
      "text/html": [
       "<div>\n",
       "<style scoped>\n",
       "    .dataframe tbody tr th:only-of-type {\n",
       "        vertical-align: middle;\n",
       "    }\n",
       "\n",
       "    .dataframe tbody tr th {\n",
       "        vertical-align: top;\n",
       "    }\n",
       "\n",
       "    .dataframe thead th {\n",
       "        text-align: right;\n",
       "    }\n",
       "</style>\n",
       "<table border=\"1\" class=\"dataframe\">\n",
       "  <thead>\n",
       "    <tr style=\"text-align: right;\">\n",
       "      <th></th>\n",
       "      <th>responseid</th>\n",
       "      <th>respid</th>\n",
       "      <th>status</th>\n",
       "      <th>interview_start</th>\n",
       "      <th>interview_end</th>\n",
       "      <th>lastchannel</th>\n",
       "      <th>lastdevicetype</th>\n",
       "      <th>lastrenderingmode</th>\n",
       "      <th>last_touched</th>\n",
       "      <th>first_question_on_last_page_displayed</th>\n",
       "      <th>...</th>\n",
       "      <th>q14_false</th>\n",
       "      <th>q14_100_other</th>\n",
       "      <th>q120_1</th>\n",
       "      <th>q120_3</th>\n",
       "      <th>q120_4</th>\n",
       "      <th>q120_2</th>\n",
       "      <th>q120_5</th>\n",
       "      <th>q120_970_other</th>\n",
       "      <th>happy_try_1</th>\n",
       "      <th>happy_try_2</th>\n",
       "    </tr>\n",
       "  </thead>\n",
       "  <tbody>\n",
       "    <tr>\n",
       "      <th>0</th>\n",
       "      <td>1</td>\n",
       "      <td>1</td>\n",
       "      <td>screened</td>\n",
       "      <td>2023-03-10T01:24:50.467+00:00</td>\n",
       "      <td>2023-03-13T06:04:49.657+00:00</td>\n",
       "      <td>1</td>\n",
       "      <td>1</td>\n",
       "      <td>1</td>\n",
       "      <td>2023-03-13T06:04:49.707+00:00</td>\n",
       "      <td>Internal_Stop</td>\n",
       "      <td>...</td>\n",
       "      <td>1,2,3,4,5,6,7,8,9,10,11,12,13,14,15,100</td>\n",
       "      <td></td>\n",
       "      <td>5</td>\n",
       "      <td>5</td>\n",
       "      <td>4</td>\n",
       "      <td>4</td>\n",
       "      <td>5</td>\n",
       "      <td></td>\n",
       "      <td>5</td>\n",
       "      <td>5</td>\n",
       "    </tr>\n",
       "  </tbody>\n",
       "</table>\n",
       "<p>1 rows × 141 columns</p>\n",
       "</div>"
      ],
      "text/plain": [
       "   responseid  respid    status                interview_start  \\\n",
       "0           1       1  screened  2023-03-10T01:24:50.467+00:00   \n",
       "\n",
       "                   interview_end  lastchannel  lastdevicetype  \\\n",
       "0  2023-03-13T06:04:49.657+00:00            1               1   \n",
       "\n",
       "   lastrenderingmode                   last_touched  \\\n",
       "0                  1  2023-03-13T06:04:49.707+00:00   \n",
       "\n",
       "  first_question_on_last_page_displayed  ...  \\\n",
       "0                         Internal_Stop  ...   \n",
       "\n",
       "                                 q14_false q14_100_other q120_1 q120_3 q120_4  \\\n",
       "0  1,2,3,4,5,6,7,8,9,10,11,12,13,14,15,100                    5      5      4   \n",
       "\n",
       "  q120_2 q120_5 q120_970_other happy_try_1 happy_try_2  \n",
       "0      4      5                          5           5  \n",
       "\n",
       "[1 rows x 141 columns]"
      ]
     },
     "execution_count": 14,
     "metadata": {},
     "output_type": "execute_result"
    }
   ],
   "source": [
    "df_survey_flat.head()"
   ]
  },
  {
   "cell_type": "code",
   "execution_count": 15,
   "metadata": {},
   "outputs": [],
   "source": [
    "#### Transform \n",
    "df_transform1 = transform.enunciado1(df_survey_flat)"
   ]
  },
  {
   "cell_type": "code",
   "execution_count": 16,
   "metadata": {},
   "outputs": [
    {
     "data": {
      "text/html": [
       "<div>\n",
       "<style scoped>\n",
       "    .dataframe tbody tr th:only-of-type {\n",
       "        vertical-align: middle;\n",
       "    }\n",
       "\n",
       "    .dataframe tbody tr th {\n",
       "        vertical-align: top;\n",
       "    }\n",
       "\n",
       "    .dataframe thead th {\n",
       "        text-align: right;\n",
       "    }\n",
       "</style>\n",
       "<table border=\"1\" class=\"dataframe\">\n",
       "  <thead>\n",
       "    <tr style=\"text-align: right;\">\n",
       "      <th></th>\n",
       "      <th>responseid</th>\n",
       "      <th>respid</th>\n",
       "      <th>status</th>\n",
       "      <th>interview_start</th>\n",
       "      <th>interview_end</th>\n",
       "      <th>lastchannel</th>\n",
       "      <th>lastdevicetype</th>\n",
       "      <th>lastrenderingmode</th>\n",
       "      <th>last_touched</th>\n",
       "      <th>first_question_on_last_page_displayed</th>\n",
       "      <th>...</th>\n",
       "      <th>q14_false</th>\n",
       "      <th>q14_100_other</th>\n",
       "      <th>q120_1</th>\n",
       "      <th>q120_3</th>\n",
       "      <th>q120_4</th>\n",
       "      <th>q120_2</th>\n",
       "      <th>q120_5</th>\n",
       "      <th>q120_970_other</th>\n",
       "      <th>happy_try_1</th>\n",
       "      <th>happy_try_2</th>\n",
       "    </tr>\n",
       "  </thead>\n",
       "  <tbody>\n",
       "    <tr>\n",
       "      <th>0</th>\n",
       "      <td>1</td>\n",
       "      <td>1</td>\n",
       "      <td>screened</td>\n",
       "      <td>2023-03-10T01:24:50.467+00:00</td>\n",
       "      <td>2023-03-13T06:04:49.657+00:00</td>\n",
       "      <td>1</td>\n",
       "      <td>1</td>\n",
       "      <td>1</td>\n",
       "      <td>2023-03-13T06:04:49.707+00:00</td>\n",
       "      <td>Internal_Stop</td>\n",
       "      <td>...</td>\n",
       "      <td>1,2,3,4,5,6,7,8,9,10,11,12,13,14,15,100</td>\n",
       "      <td></td>\n",
       "      <td>5</td>\n",
       "      <td>5</td>\n",
       "      <td>4</td>\n",
       "      <td>4</td>\n",
       "      <td>5</td>\n",
       "      <td></td>\n",
       "      <td>5</td>\n",
       "      <td>5</td>\n",
       "    </tr>\n",
       "  </tbody>\n",
       "</table>\n",
       "<p>1 rows × 141 columns</p>\n",
       "</div>"
      ],
      "text/plain": [
       "   responseid  respid    status                interview_start  \\\n",
       "0           1       1  screened  2023-03-10T01:24:50.467+00:00   \n",
       "\n",
       "                   interview_end  lastchannel  lastdevicetype  \\\n",
       "0  2023-03-13T06:04:49.657+00:00            1               1   \n",
       "\n",
       "   lastrenderingmode                   last_touched  \\\n",
       "0                  1  2023-03-13T06:04:49.707+00:00   \n",
       "\n",
       "  first_question_on_last_page_displayed  ...  \\\n",
       "0                         Internal_Stop  ...   \n",
       "\n",
       "                                 q14_false q14_100_other q120_1 q120_3 q120_4  \\\n",
       "0  1,2,3,4,5,6,7,8,9,10,11,12,13,14,15,100                    5      5      4   \n",
       "\n",
       "  q120_2 q120_5 q120_970_other happy_try_1 happy_try_2  \n",
       "0      4      5                          5           5  \n",
       "\n",
       "[1 rows x 141 columns]"
      ]
     },
     "execution_count": 16,
     "metadata": {},
     "output_type": "execute_result"
    }
   ],
   "source": [
    "df_transform1.head()"
   ]
  },
  {
   "cell_type": "code",
   "execution_count": 17,
   "metadata": {},
   "outputs": [],
   "source": [
    "from utils import utils as u\n",
    "import sqlalchemy as db\n",
    "\n",
    "db = 'test_db'\n",
    "\n",
    "tbl_name = \"SurveyTest\"\n",
    "\n",
    "# u.sql_engine()\n",
    "\n",
    "u.create_sql_tbl_schema(df_transform1, u.sql_conn(u.sql_engine()), db, tbl_name)"
   ]
  },
  {
   "cell_type": "code",
   "execution_count": 18,
   "metadata": {},
   "outputs": [],
   "source": [
    "#### Load\n",
    "load.load_sql(df_transform1, tbl_name)"
   ]
  }
 ],
 "metadata": {
  "kernelspec": {
   "display_name": "Python 3",
   "language": "python",
   "name": "python3"
  },
  "language_info": {
   "codemirror_mode": {
    "name": "ipython",
    "version": 3
   },
   "file_extension": ".py",
   "mimetype": "text/x-python",
   "name": "python",
   "nbconvert_exporter": "python",
   "pygments_lexer": "ipython3",
   "version": "3.10.9"
  },
  "orig_nbformat": 4,
  "vscode": {
   "interpreter": {
    "hash": "77fbab7113812958326bb21073a47f11230aec63ed356ebd6ce871b406501e54"
   }
  }
 },
 "nbformat": 4,
 "nbformat_minor": 2
}
